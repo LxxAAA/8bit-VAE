{
 "cells": [
  {
   "cell_type": "markdown",
   "metadata": {},
   "source": [
    "# NES-MDB"
   ]
  },
  {
   "cell_type": "markdown",
   "metadata": {},
   "source": [
    "The purpose of this notebook is to showcase a few things about the NES MDB and our work on it."
   ]
  },
  {
   "cell_type": "code",
   "execution_count": 2,
   "metadata": {},
   "outputs": [],
   "source": [
    "from collections import Counter\n",
    "import numpy as np\n",
    "import matplotlib.pyplot as plt\n",
    "import seaborn as sns\n",
    "import glob\n",
    "import pickle"
   ]
  },
  {
   "cell_type": "markdown",
   "metadata": {},
   "source": [
    "The purpose of this notebook is to showcase a few things about the NES MDB and our work on it."
   ]
  },
  {
   "cell_type": "markdown",
   "metadata": {},
   "source": [
    "# 1. Music Statistics."
   ]
  },
  {
   "cell_type": "markdown",
   "metadata": {},
   "source": [
    "We begin by first loading the data. We apply a preprocessing step where we move all the notes so that there is no spacing between 0 and the rest of the integers. We remark that for P1 and P2, the note 32 is never played, so we ignore it and shift it down."
   ]
  },
  {
   "cell_type": "code",
   "execution_count": 4,
   "metadata": {},
   "outputs": [
    {
     "ename": "KeyboardInterrupt",
     "evalue": "",
     "output_type": "error",
     "traceback": [
      "\u001b[0;31m---------------------------------------------------------------------------\u001b[0m",
      "\u001b[0;31mKeyboardInterrupt\u001b[0m                         Traceback (most recent call last)",
      "\u001b[0;32m<ipython-input-4-f3d5dcea572e>\u001b[0m in \u001b[0;36m<module>\u001b[0;34m\u001b[0m\n\u001b[1;32m     46\u001b[0m \u001b[0;34m\u001b[0m\u001b[0m\n\u001b[1;32m     47\u001b[0m \u001b[0mprocessed_songs\u001b[0m   \u001b[0;34m=\u001b[0m \u001b[0msong_loader\u001b[0m\u001b[0;34m(\u001b[0m\u001b[0mfolder\u001b[0m \u001b[0;34m=\u001b[0m \u001b[0;34m'nesmdb24_seprsco/train'\u001b[0m\u001b[0;34m)\u001b[0m\u001b[0;34m\u001b[0m\u001b[0;34m\u001b[0m\u001b[0m\n\u001b[0;32m---> 48\u001b[0;31m \u001b[0mvoice_counts\u001b[0m \u001b[0;34m=\u001b[0m \u001b[0mnote_counter\u001b[0m\u001b[0;34m(\u001b[0m\u001b[0mprocessed_songs\u001b[0m\u001b[0;34m)\u001b[0m\u001b[0;34m\u001b[0m\u001b[0;34m\u001b[0m\u001b[0m\n\u001b[0m",
      "\u001b[0;32m<ipython-input-4-f3d5dcea572e>\u001b[0m in \u001b[0;36mnote_counter\u001b[0;34m(songs)\u001b[0m\n\u001b[1;32m     41\u001b[0m         \u001b[0;32mfor\u001b[0m \u001b[0mvoice\u001b[0m \u001b[0;32min\u001b[0m \u001b[0mrange\u001b[0m\u001b[0;34m(\u001b[0m\u001b[0;36m4\u001b[0m\u001b[0;34m)\u001b[0m\u001b[0;34m:\u001b[0m\u001b[0;34m\u001b[0m\u001b[0;34m\u001b[0m\u001b[0m\n\u001b[1;32m     42\u001b[0m             \u001b[0;32mfor\u001b[0m \u001b[0mnote\u001b[0m \u001b[0;32min\u001b[0m \u001b[0msong\u001b[0m\u001b[0;34m[\u001b[0m\u001b[0;34m:\u001b[0m\u001b[0;34m,\u001b[0m\u001b[0mvoice\u001b[0m\u001b[0;34m]\u001b[0m\u001b[0;34m:\u001b[0m\u001b[0;34m\u001b[0m\u001b[0;34m\u001b[0m\u001b[0m\n\u001b[0;32m---> 43\u001b[0;31m                 \u001b[0mvoice_counts\u001b[0m\u001b[0;34m[\u001b[0m\u001b[0mvoice\u001b[0m\u001b[0;34m]\u001b[0m\u001b[0;34m[\u001b[0m\u001b[0mnote\u001b[0m\u001b[0;34m]\u001b[0m \u001b[0;34m+=\u001b[0m \u001b[0;36m1\u001b[0m\u001b[0;34m\u001b[0m\u001b[0;34m\u001b[0m\u001b[0m\n\u001b[0m\u001b[1;32m     44\u001b[0m \u001b[0;34m\u001b[0m\u001b[0m\n\u001b[1;32m     45\u001b[0m     \u001b[0;32mreturn\u001b[0m \u001b[0mvoice_counts\u001b[0m\u001b[0;34m\u001b[0m\u001b[0;34m\u001b[0m\u001b[0m\n",
      "\u001b[0;31mKeyboardInterrupt\u001b[0m: "
     ]
    }
   ],
   "source": [
    "def song_loader(folder):\n",
    "    processed_songs = []\n",
    "\n",
    "    #instrument info.\n",
    "    #(key,val) = (instrument, (note_size,velocity_size, timbre_size))\n",
    "    voices = {\"P1\": (77,16,4),\n",
    "                   \"P2\": (77,16,4),\n",
    "                   \"TR\": (89,0,0),\n",
    "                   \"NO\": (17,16,2)}\n",
    "\n",
    "    #First, we define the functions which will normalize our notes\n",
    "    #to begin at 0.\n",
    "\n",
    "    P1_normalizer = np.vectorize(lambda x : x - 32 if x > 0 else 0)\n",
    "    P2_normalizer = np.vectorize(lambda x : x - 32 if x > 0 else 0)\n",
    "    TR_normalizer = np.vectorize(lambda x : x - 20 if x > 0 else 0)\n",
    "\n",
    "\n",
    "\n",
    "    for song in glob.glob(folder + '/*'):\n",
    "        with open(song, 'rb') as song_info:\n",
    "            rate, nsamps, exprsco = pickle.load(song_info)\n",
    "\n",
    "            #Normalize the notes for the voices.\n",
    "            exprsco[:,0] = P1_normalizer(exprsco[:,0])\n",
    "            exprsco[:,1] = P2_normalizer(exprsco[:,1])\n",
    "            exprsco[:,2] = TR_normalizer(exprsco[:,2])\n",
    "\n",
    "            processed_songs.append(exprsco)\n",
    "    \n",
    "    return processed_songs\n",
    "\n",
    "def note_counter(songs):\n",
    "    P1 = Counter()\n",
    "    P2 = Counter()\n",
    "    TR = Counter()\n",
    "    NO = Counter()\n",
    "    voice_counts = [P1,P2,TR,NO]\n",
    "\n",
    "    for song in processed_songs:\n",
    "        for voice in range(4):\n",
    "            for note in song[:,voice]:\n",
    "                voice_counts[voice][note] += 1\n",
    "    \n",
    "    return voice_counts\n",
    "\n",
    "processed_songs   = song_loader(folder = 'nesmdb24_seprsco/train')\n",
    "voice_counts = note_counter(processed_songs)"
   ]
  },
  {
   "cell_type": "markdown",
   "metadata": {},
   "source": [
    "We begin by first preparing a function to count the number of times each notes appears for each instrument. As it turns out, the most popular note is \"0\" i.e. that the instrument is not playing. We will plot the counts for the all the notes per instrument in a moment, but we first want to emphasize just how often each voice is turned off. Most notably, notice that for the noise voice, 0 appears more than 50% of the time. It might even be worth considering removing it entirely for the dimension reduction. "
   ]
  },
  {
   "cell_type": "code",
   "execution_count": null,
   "metadata": {},
   "outputs": [],
   "source": [
    "voices = [\"P1\",\"P2\",\"TR\",\"NO\"]\n",
    "tot_count = sum(voice_counts[0].values())\n",
    "\n",
    "for voice,note_count in zip(voices,voice_counts):\n",
    "    percentage = 100*note_count[0]/tot_count\n",
    "    print(voice + \" is turned off for {:.2f}% of the time.\".format(percentage))"
   ]
  },
  {
   "cell_type": "code",
   "execution_count": null,
   "metadata": {},
   "outputs": [],
   "source": [
    "def note_plotter(ax,voice_counts):\n",
    "    notes,counts = [],[]\n",
    "    for note, count in voice_counts.items():\n",
    "        notes.append(note)\n",
    "        counts.append(count)\n",
    "    max_note = max(notes)+1\n",
    "    #plt.figure(figsize=(20,10))\n",
    "    #plt.xticks(np.arange(0, max_note, 1))\n",
    "    ax.hist(notes, weights= counts, bins=range(max_note))\n",
    "    ax.set_xlim(0,max_note-1)\n",
    "\n",
    "fig, (ax1, ax2) = plt.subplots(1,2, figsize = (10,7))\n",
    "fig.suptitle(\"Histograms for Pulses\",fontsize = 40)\n",
    "\n",
    "#First, we do voice P1.\n",
    "note_plotter(ax1,voice_counts[0])\n",
    "ax1.set_xlabel(\"Notes for P1\", fontsize=20)\n",
    "ax1.set_ylabel(\"Counts\", fontsize=20)\n",
    "ax1.set_ylim(0,600000)\n",
    "\n",
    "#Now voice P2\n",
    "note_plotter(ax2,voice_counts[1])\n",
    "ax2.set_xlabel(\"Notes for P2\", fontsize=20)\n",
    "ax2.set_ylim(0,600000)\n",
    "fig.tight_layout()\n",
    "fig.subplots_adjust(top=0.88)"
   ]
  },
  {
   "cell_type": "code",
   "execution_count": null,
   "metadata": {},
   "outputs": [],
   "source": [
    "fig, ax = plt.subplots(figsize=(11,7))\n",
    "note_plotter(ax, voice_counts[2])\n",
    "ax.set_xlabel(\"Notes for TR\", fontsize=20)\n",
    "ax.set_ylabel(\"Counts\", fontsize=20)\n",
    "_ = ax.set_title(\"Histogram for TR voice\", fontsize=20)"
   ]
  },
  {
   "cell_type": "code",
   "execution_count": null,
   "metadata": {},
   "outputs": [],
   "source": [
    "fig, ax = plt.subplots(figsize=(11,7))\n",
    "note_plotter(ax, voice_counts[3])\n",
    "ax.set_xlabel(\"Notes for NO\", fontsize=20)\n",
    "ax.set_ylabel(\"Counts\", fontsize=20)\n",
    "_ = ax.set_title(\"Histogram for NO voice\", fontsize=20)"
   ]
  },
  {
   "cell_type": "markdown",
   "metadata": {},
   "source": [
    "## Frozen time"
   ]
  },
  {
   "cell_type": "code",
   "execution_count": null,
   "metadata": {},
   "outputs": [],
   "source": [
    "import seaborn as sns\n",
    "import matplotlib.pyplot as plt\n",
    "j = 2\n",
    "voice_names = [\"P1\",\"P2\", \"TR\",\"NO\"]\n",
    "fig, ax = plt.subplots(figsize = (17,7))\n",
    "sns.barplot(x= [i for i in range(len(cnts[j]))], y = [len(Z) for Z in cnts[j]], ax = ax)\n",
    "ax.set_xlabel(\"Note range\", fontsize = 20)\n",
    "ax.set_ylabel(\"Count\", fontsize = 20)\n",
    "_ = ax.set_title(\"How many times did each \" + voice_names[j] +\" note get held?\", fontsize=20)"
   ]
  },
  {
   "cell_type": "code",
   "execution_count": null,
   "metadata": {},
   "outputs": [],
   "source": [
    "fig2, ax2 = plt.subplots(figsize = (15,7))\n",
    "sns.countplot(x=cnts[3][0], ax = ax2)\n",
    "ax2.set_title(\"Number of times the NO voice was turned off per duration.\", fontsize=20)\n",
    "ax2.set_xlabel(\"Number of timesteps held.\", fontsize= 20)\n",
    "ax2.set_ylabel(\"Count\", fontsize=20)"
   ]
  },
  {
   "cell_type": "code",
   "execution_count": null,
   "metadata": {},
   "outputs": [],
   "source": [
    "fig2, ax2 = plt.subplots(figsize = (15,7))\n",
    "sns.countplot(x=cnts[2][0], ax = ax2)\n",
    "ax2.set_title(\"Number of times the TR voice was turned off per duration.\", fontsize=20)\n",
    "ax2.set_xlabel(\"Number of timesteps held.\", fontsize= 20)\n",
    "ax2.set_ylabel(\"Count\", fontsize=20)"
   ]
  },
  {
   "cell_type": "code",
   "execution_count": null,
   "metadata": {},
   "outputs": [],
   "source": [
    "fig2, ax2 = plt.subplots(figsize = (15,7))\n",
    "sns.countplot(x=cnts[1][0], ax = ax2)\n",
    "ax2.set_title(\"Number of times the P2 voice was turned off per duration.\", fontsize=20)\n",
    "ax2.set_xlabel(\"Number of timesteps held.\", fontsize= 20)\n",
    "ax2.set_ylabel(\"Count\", fontsize=20)"
   ]
  },
  {
   "cell_type": "code",
   "execution_count": null,
   "metadata": {},
   "outputs": [],
   "source": [
    "fig2, ax2 = plt.subplots(figsize = (15,7))\n",
    "sns.countplot(x=cnts[0][0], ax = ax2)\n",
    "ax2.set_title(\"Number of times the P1 voice was turned off per duration.\", fontsize=20)\n",
    "ax2.set_xlabel(\"Number of timesteps held.\", fontsize= 20)\n",
    "ax2.set_ylabel(\"Count\", fontsize=20)"
   ]
  },
  {
   "cell_type": "markdown",
   "metadata": {},
   "source": [
    "## 2. Song Dictionary."
   ]
  },
  {
   "cell_type": "markdown",
   "metadata": {},
   "source": [
    "During our preprocessing, we chopped the music into several pieces. In order to assign meaning to each piece, we created a dictionary which takes a song name and gives you all the pieces associated with that name. We leave it for reference."
   ]
  },
  {
   "cell_type": "code",
   "execution_count": 3,
   "metadata": {},
   "outputs": [],
   "source": [
    "with open('52_12_TR_song_dict','rb') as file:\n",
    "    song_dict = pickle.load(file)"
   ]
  },
  {
   "cell_type": "code",
   "execution_count": 24,
   "metadata": {},
   "outputs": [
    {
     "data": {
      "text/plain": [
       "[1569226,\n",
       " 1569227,\n",
       " 1569228,\n",
       " 1569229,\n",
       " 1569230,\n",
       " 1569231,\n",
       " 1569232,\n",
       " 1569233,\n",
       " 1569234,\n",
       " 1569235,\n",
       " 1569236,\n",
       " 1569237,\n",
       " 1569238,\n",
       " 1569239,\n",
       " 1569240,\n",
       " 1569241,\n",
       " 1569242,\n",
       " 1569243,\n",
       " 1569244,\n",
       " 1569245,\n",
       " 1569246,\n",
       " 1569247,\n",
       " 1569248,\n",
       " 1569249,\n",
       " 1569250,\n",
       " 1569251,\n",
       " 1569252,\n",
       " 1569253,\n",
       " 1569254,\n",
       " 1569255,\n",
       " 1569256,\n",
       " 1569257,\n",
       " 1569258,\n",
       " 1569259,\n",
       " 1569260,\n",
       " 1569261,\n",
       " 1569262,\n",
       " 1569263,\n",
       " 1569264,\n",
       " 1569265,\n",
       " 1569266,\n",
       " 1569267,\n",
       " 1569268,\n",
       " 1569269,\n",
       " 1569270,\n",
       " 1569271,\n",
       " 1569272,\n",
       " 1569273,\n",
       " 1569274,\n",
       " 1569275,\n",
       " 1569276,\n",
       " 1569277,\n",
       " 1569278,\n",
       " 1569279,\n",
       " 1569280,\n",
       " 1569281,\n",
       " 1569282,\n",
       " 1569283,\n",
       " 1569284,\n",
       " 1569285,\n",
       " 1569286,\n",
       " 1569287,\n",
       " 1569288,\n",
       " 1569289,\n",
       " 1569290]"
      ]
     },
     "execution_count": 24,
     "metadata": {},
     "output_type": "execute_result"
    }
   ],
   "source": [
    "#song_dict['nesmdb24_seprsco/train/380_WaronWheels_10_11ResultsTheme.seprsco.pkl']\n",
    "#song_dict['nesmdb24_seprsco/train/221_MarioBros__01_02GameStartA.seprsco.pkl']\n",
    "#song_dict['nesmdb24_seprsco/train/303_SpaceHarrier_11_12Hayaoh.seprsco.pkl']\n",
    "#song_dict['nesmdb24_seprsco/train/346_TheJungleBook_04_05Level4Level7Level10.seprsco.pkl']\n",
    "#song_dict['nesmdb24_seprsco/train/199_Labyrinth_MaounoMeikyu_08_09Oubliette.seprsco.pkl']\n",
    "#song_dict['nesmdb24_seprsco/train/082_Dr_Mario_08_09Ending.seprsco.pkl']\n",
    "#song_dict['nesmdb24_seprsco/train/105_FamicomJump_HeroRetsuden_06_07AdventureJumpWorld.seprsco.pkl']\n",
    "#song_dict['nesmdb24_seprsco/train/117_FinalFantasy_11_12MenuScreen.seprsco.pkl']\n",
    "#song_dict['nesmdb24_seprsco/train/053_ChoujinSentaiJetman_01_02AreaSelect.seprsco.pkl']\n",
    "#song_dict['nesmdb24_seprsco/train/329_SwordMaster_06_07Stage3.seprsco.pkl']\n",
    "#song_dict['nesmdb24_seprsco/train/025_BatmanReturns_03_04Opening1.seprsco.pkl']\n",
    "#song_dict['nesmdb24_seprsco/train/032_BioSenshiDan_IncreasertonoTatakai_04_05Stage3.seprsco.pkl']\n",
    "song_dict['nesmdb24_seprsco/train/322_SuperMarioBros__02_03SwimmingAround.seprsco.pkl']"
   ]
  },
  {
   "cell_type": "code",
   "execution_count": 23,
   "metadata": {},
   "outputs": [
    {
     "data": {
      "text/plain": [
       "[591037,\n",
       " 591038,\n",
       " 591039,\n",
       " 591040,\n",
       " 591041,\n",
       " 591042,\n",
       " 591043,\n",
       " 591044,\n",
       " 591045,\n",
       " 591046,\n",
       " 591047,\n",
       " 591048,\n",
       " 591049,\n",
       " 591050,\n",
       " 591051,\n",
       " 591052,\n",
       " 591053]"
      ]
     },
     "execution_count": 23,
     "metadata": {},
     "output_type": "execute_result"
    }
   ],
   "source": [
    "song_dict['nesmdb24_seprsco/train/325_SuperMarioWorld_01_02YoshisIsland.seprsco.pkl']"
   ]
  },
  {
   "cell_type": "code",
   "execution_count": null,
   "metadata": {},
   "outputs": [],
   "source": [
    "song_dic"
   ]
  },
  {
   "cell_type": "code",
   "execution_count": null,
   "metadata": {},
   "outputs": [],
   "source": []
  }
 ],
 "metadata": {
  "kernelspec": {
   "display_name": "Python 3",
   "language": "python",
   "name": "python3"
  },
  "language_info": {
   "codemirror_mode": {
    "name": "ipython",
    "version": 3
   },
   "file_extension": ".py",
   "mimetype": "text/x-python",
   "name": "python",
   "nbconvert_exporter": "python",
   "pygments_lexer": "ipython3",
   "version": "3.6.7"
  }
 },
 "nbformat": 4,
 "nbformat_minor": 2
}
