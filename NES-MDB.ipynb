{
 "cells": [
  {
   "cell_type": "markdown",
   "metadata": {},
   "source": [
    "# NES-MDB"
   ]
  },
  {
   "cell_type": "markdown",
   "metadata": {},
   "source": [
    "The purpose of this notebook is to showcase a few things about the NES MDB and our work on it."
   ]
  },
  {
   "cell_type": "code",
   "execution_count": 1,
   "metadata": {},
   "outputs": [],
   "source": [
    "from collections import Counter\n",
    "import numpy as np\n",
    "import matplotlib.pyplot as plt\n",
    "import seaborn as sns\n",
    "import glob\n",
    "import pickle"
   ]
  },
  {
   "cell_type": "markdown",
   "metadata": {},
   "source": [
    "The purpose of this notebook is to showcase a few things about the NES MDB and our work on it."
   ]
  },
  {
   "cell_type": "markdown",
   "metadata": {},
   "source": [
    "# 1. Music Statistics."
   ]
  },
  {
   "cell_type": "markdown",
   "metadata": {},
   "source": [
    "We begin by first loading the data. We apply a preprocessing step where we move all the notes so that there is no spacing between 0 and the rest of the integers. We remark that for P1 and P2, the note 32 is never played, so we ignore it and shift it down."
   ]
  },
  {
   "cell_type": "code",
   "execution_count": 4,
   "metadata": {},
   "outputs": [
    {
     "ename": "KeyboardInterrupt",
     "evalue": "",
     "output_type": "error",
     "traceback": [
      "\u001b[0;31m---------------------------------------------------------------------------\u001b[0m",
      "\u001b[0;31mKeyboardInterrupt\u001b[0m                         Traceback (most recent call last)",
      "\u001b[0;32m<ipython-input-4-f3d5dcea572e>\u001b[0m in \u001b[0;36m<module>\u001b[0;34m\u001b[0m\n\u001b[1;32m     46\u001b[0m \u001b[0;34m\u001b[0m\u001b[0m\n\u001b[1;32m     47\u001b[0m \u001b[0mprocessed_songs\u001b[0m   \u001b[0;34m=\u001b[0m \u001b[0msong_loader\u001b[0m\u001b[0;34m(\u001b[0m\u001b[0mfolder\u001b[0m \u001b[0;34m=\u001b[0m \u001b[0;34m'nesmdb24_seprsco/train'\u001b[0m\u001b[0;34m)\u001b[0m\u001b[0;34m\u001b[0m\u001b[0;34m\u001b[0m\u001b[0m\n\u001b[0;32m---> 48\u001b[0;31m \u001b[0mvoice_counts\u001b[0m \u001b[0;34m=\u001b[0m \u001b[0mnote_counter\u001b[0m\u001b[0;34m(\u001b[0m\u001b[0mprocessed_songs\u001b[0m\u001b[0;34m)\u001b[0m\u001b[0;34m\u001b[0m\u001b[0;34m\u001b[0m\u001b[0m\n\u001b[0m",
      "\u001b[0;32m<ipython-input-4-f3d5dcea572e>\u001b[0m in \u001b[0;36mnote_counter\u001b[0;34m(songs)\u001b[0m\n\u001b[1;32m     41\u001b[0m         \u001b[0;32mfor\u001b[0m \u001b[0mvoice\u001b[0m \u001b[0;32min\u001b[0m \u001b[0mrange\u001b[0m\u001b[0;34m(\u001b[0m\u001b[0;36m4\u001b[0m\u001b[0;34m)\u001b[0m\u001b[0;34m:\u001b[0m\u001b[0;34m\u001b[0m\u001b[0;34m\u001b[0m\u001b[0m\n\u001b[1;32m     42\u001b[0m             \u001b[0;32mfor\u001b[0m \u001b[0mnote\u001b[0m \u001b[0;32min\u001b[0m \u001b[0msong\u001b[0m\u001b[0;34m[\u001b[0m\u001b[0;34m:\u001b[0m\u001b[0;34m,\u001b[0m\u001b[0mvoice\u001b[0m\u001b[0;34m]\u001b[0m\u001b[0;34m:\u001b[0m\u001b[0;34m\u001b[0m\u001b[0;34m\u001b[0m\u001b[0m\n\u001b[0;32m---> 43\u001b[0;31m                 \u001b[0mvoice_counts\u001b[0m\u001b[0;34m[\u001b[0m\u001b[0mvoice\u001b[0m\u001b[0;34m]\u001b[0m\u001b[0;34m[\u001b[0m\u001b[0mnote\u001b[0m\u001b[0;34m]\u001b[0m \u001b[0;34m+=\u001b[0m \u001b[0;36m1\u001b[0m\u001b[0;34m\u001b[0m\u001b[0;34m\u001b[0m\u001b[0m\n\u001b[0m\u001b[1;32m     44\u001b[0m \u001b[0;34m\u001b[0m\u001b[0m\n\u001b[1;32m     45\u001b[0m     \u001b[0;32mreturn\u001b[0m \u001b[0mvoice_counts\u001b[0m\u001b[0;34m\u001b[0m\u001b[0;34m\u001b[0m\u001b[0m\n",
      "\u001b[0;31mKeyboardInterrupt\u001b[0m: "
     ]
    }
   ],
   "source": [
    "def song_loader(folder):\n",
    "    processed_songs = []\n",
    "\n",
    "    #instrument info.\n",
    "    #(key,val) = (instrument, (note_size,velocity_size, timbre_size))\n",
    "    voices = {\"P1\": (77,16,4),\n",
    "                   \"P2\": (77,16,4),\n",
    "                   \"TR\": (89,0,0),\n",
    "                   \"NO\": (17,16,2)}\n",
    "\n",
    "    #First, we define the functions which will normalize our notes\n",
    "    #to begin at 0.\n",
    "\n",
    "    P1_normalizer = np.vectorize(lambda x : x - 32 if x > 0 else 0)\n",
    "    P2_normalizer = np.vectorize(lambda x : x - 32 if x > 0 else 0)\n",
    "    TR_normalizer = np.vectorize(lambda x : x - 20 if x > 0 else 0)\n",
    "\n",
    "\n",
    "\n",
    "    for song in glob.glob(folder + '/*'):\n",
    "        with open(song, 'rb') as song_info:\n",
    "            rate, nsamps, exprsco = pickle.load(song_info)\n",
    "\n",
    "            #Normalize the notes for the voices.\n",
    "            exprsco[:,0] = P1_normalizer(exprsco[:,0])\n",
    "            exprsco[:,1] = P2_normalizer(exprsco[:,1])\n",
    "            exprsco[:,2] = TR_normalizer(exprsco[:,2])\n",
    "\n",
    "            processed_songs.append(exprsco)\n",
    "    \n",
    "    return processed_songs\n",
    "\n",
    "def note_counter(songs):\n",
    "    P1 = Counter()\n",
    "    P2 = Counter()\n",
    "    TR = Counter()\n",
    "    NO = Counter()\n",
    "    voice_counts = [P1,P2,TR,NO]\n",
    "\n",
    "    for song in processed_songs:\n",
    "        for voice in range(4):\n",
    "            for note in song[:,voice]:\n",
    "                voice_counts[voice][note] += 1\n",
    "    \n",
    "    return voice_counts\n",
    "\n",
    "processed_songs   = song_loader(folder = 'nesmdb24_seprsco/train')\n",
    "voice_counts = note_counter(processed_songs)"
   ]
  },
  {
   "cell_type": "markdown",
   "metadata": {},
   "source": [
    "We begin by first preparing a function to count the number of times each notes appears for each instrument. As it turns out, the most popular note is \"0\" i.e. that the instrument is not playing. We will plot the counts for the all the notes per instrument in a moment, but we first want to emphasize just how often each voice is turned off. Most notably, notice that for the noise voice, 0 appears more than 50% of the time. It might even be worth considering removing it entirely for the dimension reduction. "
   ]
  },
  {
   "cell_type": "code",
   "execution_count": null,
   "metadata": {},
   "outputs": [],
   "source": [
    "voices = [\"P1\",\"P2\",\"TR\",\"NO\"]\n",
    "tot_count = sum(voice_counts[0].values())\n",
    "\n",
    "for voice,note_count in zip(voices,voice_counts):\n",
    "    percentage = 100*note_count[0]/tot_count\n",
    "    print(voice + \" is turned off for {:.2f}% of the time.\".format(percentage))"
   ]
  },
  {
   "cell_type": "code",
   "execution_count": null,
   "metadata": {},
   "outputs": [],
   "source": [
    "def note_plotter(ax,voice_counts):\n",
    "    notes,counts = [],[]\n",
    "    for note, count in voice_counts.items():\n",
    "        notes.append(note)\n",
    "        counts.append(count)\n",
    "    max_note = max(notes)+1\n",
    "    #plt.figure(figsize=(20,10))\n",
    "    #plt.xticks(np.arange(0, max_note, 1))\n",
    "    ax.hist(notes, weights= counts, bins=range(max_note))\n",
    "    ax.set_xlim(0,max_note-1)\n",
    "\n",
    "fig, (ax1, ax2) = plt.subplots(1,2, figsize = (10,7))\n",
    "fig.suptitle(\"Histograms for Pulses\",fontsize = 40)\n",
    "\n",
    "#First, we do voice P1.\n",
    "note_plotter(ax1,voice_counts[0])\n",
    "ax1.set_xlabel(\"Notes for P1\", fontsize=20)\n",
    "ax1.set_ylabel(\"Counts\", fontsize=20)\n",
    "ax1.set_ylim(0,600000)\n",
    "\n",
    "#Now voice P2\n",
    "note_plotter(ax2,voice_counts[1])\n",
    "ax2.set_xlabel(\"Notes for P2\", fontsize=20)\n",
    "ax2.set_ylim(0,600000)\n",
    "fig.tight_layout()\n",
    "fig.subplots_adjust(top=0.88)"
   ]
  },
  {
   "cell_type": "code",
   "execution_count": null,
   "metadata": {},
   "outputs": [],
   "source": [
    "fig, ax = plt.subplots(figsize=(11,7))\n",
    "note_plotter(ax, voice_counts[2])\n",
    "ax.set_xlabel(\"Notes for TR\", fontsize=20)\n",
    "ax.set_ylabel(\"Counts\", fontsize=20)\n",
    "_ = ax.set_title(\"Histogram for TR voice\", fontsize=20)"
   ]
  },
  {
   "cell_type": "code",
   "execution_count": null,
   "metadata": {},
   "outputs": [],
   "source": [
    "fig, ax = plt.subplots(figsize=(11,7))\n",
    "note_plotter(ax, voice_counts[3])\n",
    "ax.set_xlabel(\"Notes for NO\", fontsize=20)\n",
    "ax.set_ylabel(\"Counts\", fontsize=20)\n",
    "_ = ax.set_title(\"Histogram for NO voice\", fontsize=20)"
   ]
  },
  {
   "cell_type": "markdown",
   "metadata": {},
   "source": [
    "## Frozen time"
   ]
  },
  {
   "cell_type": "code",
   "execution_count": null,
   "metadata": {},
   "outputs": [],
   "source": [
    "import seaborn as sns\n",
    "import matplotlib.pyplot as plt\n",
    "j = 2\n",
    "voice_names = [\"P1\",\"P2\", \"TR\",\"NO\"]\n",
    "fig, ax = plt.subplots(figsize = (17,7))\n",
    "sns.barplot(x= [i for i in range(len(cnts[j]))], y = [len(Z) for Z in cnts[j]], ax = ax)\n",
    "ax.set_xlabel(\"Note range\", fontsize = 20)\n",
    "ax.set_ylabel(\"Count\", fontsize = 20)\n",
    "_ = ax.set_title(\"How many times did each \" + voice_names[j] +\" note get held?\", fontsize=20)"
   ]
  },
  {
   "cell_type": "code",
   "execution_count": null,
   "metadata": {},
   "outputs": [],
   "source": [
    "fig2, ax2 = plt.subplots(figsize = (15,7))\n",
    "sns.countplot(x=cnts[3][0], ax = ax2)\n",
    "ax2.set_title(\"Number of times the NO voice was turned off per duration.\", fontsize=20)\n",
    "ax2.set_xlabel(\"Number of timesteps held.\", fontsize= 20)\n",
    "ax2.set_ylabel(\"Count\", fontsize=20)"
   ]
  },
  {
   "cell_type": "code",
   "execution_count": null,
   "metadata": {},
   "outputs": [],
   "source": [
    "fig2, ax2 = plt.subplots(figsize = (15,7))\n",
    "sns.countplot(x=cnts[2][0], ax = ax2)\n",
    "ax2.set_title(\"Number of times the TR voice was turned off per duration.\", fontsize=20)\n",
    "ax2.set_xlabel(\"Number of timesteps held.\", fontsize= 20)\n",
    "ax2.set_ylabel(\"Count\", fontsize=20)"
   ]
  },
  {
   "cell_type": "code",
   "execution_count": null,
   "metadata": {},
   "outputs": [],
   "source": [
    "fig2, ax2 = plt.subplots(figsize = (15,7))\n",
    "sns.countplot(x=cnts[1][0], ax = ax2)\n",
    "ax2.set_title(\"Number of times the P2 voice was turned off per duration.\", fontsize=20)\n",
    "ax2.set_xlabel(\"Number of timesteps held.\", fontsize= 20)\n",
    "ax2.set_ylabel(\"Count\", fontsize=20)"
   ]
  },
  {
   "cell_type": "code",
   "execution_count": null,
   "metadata": {},
   "outputs": [],
   "source": [
    "fig2, ax2 = plt.subplots(figsize = (15,7))\n",
    "sns.countplot(x=cnts[0][0], ax = ax2)\n",
    "ax2.set_title(\"Number of times the P1 voice was turned off per duration.\", fontsize=20)\n",
    "ax2.set_xlabel(\"Number of timesteps held.\", fontsize= 20)\n",
    "ax2.set_ylabel(\"Count\", fontsize=20)"
   ]
  },
  {
   "cell_type": "markdown",
   "metadata": {},
   "source": [
    "## 2. Song Dictionary."
   ]
  },
  {
   "cell_type": "markdown",
   "metadata": {},
   "source": [
    "During our preprocessing, we chopped the music into several pieces. In order to assign meaning to each piece, we created a dictionary which takes a song name and gives you all the pieces associated with that name. We leave it for reference."
   ]
  },
  {
   "cell_type": "code",
   "execution_count": 2,
   "metadata": {},
   "outputs": [],
   "source": [
    "with open('52_12_TR_song_dict','rb') as file:\n",
    "    song_dict = pickle.load(file)"
   ]
  },
  {
   "cell_type": "code",
   "execution_count": 17,
   "metadata": {},
   "outputs": [
    {
     "data": {
      "text/plain": [
       "[108961,\n",
       " 108962,\n",
       " 108963,\n",
       " 108964,\n",
       " 108965,\n",
       " 108966,\n",
       " 108967,\n",
       " 108968,\n",
       " 108969,\n",
       " 108970,\n",
       " 108971,\n",
       " 108972,\n",
       " 108973,\n",
       " 108974,\n",
       " 108975,\n",
       " 108976,\n",
       " 108977,\n",
       " 108978,\n",
       " 108979,\n",
       " 108980,\n",
       " 108981,\n",
       " 108982,\n",
       " 108983,\n",
       " 108984,\n",
       " 108985,\n",
       " 108986,\n",
       " 108987,\n",
       " 108988,\n",
       " 108989,\n",
       " 108990,\n",
       " 108991,\n",
       " 108992,\n",
       " 108993,\n",
       " 108994,\n",
       " 108995,\n",
       " 108996,\n",
       " 108997,\n",
       " 108998,\n",
       " 108999,\n",
       " 109000,\n",
       " 109001,\n",
       " 109002,\n",
       " 109003,\n",
       " 109004,\n",
       " 109005,\n",
       " 109006,\n",
       " 109007,\n",
       " 109008,\n",
       " 109009,\n",
       " 109010,\n",
       " 109011,\n",
       " 109012,\n",
       " 109013,\n",
       " 109014,\n",
       " 109015,\n",
       " 109016,\n",
       " 109017,\n",
       " 109018,\n",
       " 109019,\n",
       " 109020,\n",
       " 109021,\n",
       " 109022,\n",
       " 109023,\n",
       " 109024,\n",
       " 109025,\n",
       " 109026,\n",
       " 109027,\n",
       " 109028,\n",
       " 109029,\n",
       " 109030,\n",
       " 109031,\n",
       " 109032,\n",
       " 109033,\n",
       " 109034,\n",
       " 109035,\n",
       " 109036,\n",
       " 109037,\n",
       " 109038,\n",
       " 109039,\n",
       " 109040,\n",
       " 109041,\n",
       " 109042,\n",
       " 109043,\n",
       " 109044,\n",
       " 109045,\n",
       " 109046,\n",
       " 109047,\n",
       " 109048,\n",
       " 109049,\n",
       " 109050,\n",
       " 109051,\n",
       " 109052,\n",
       " 109053,\n",
       " 109054,\n",
       " 109055,\n",
       " 109056,\n",
       " 109057,\n",
       " 109058,\n",
       " 109059,\n",
       " 109060,\n",
       " 109061,\n",
       " 109062,\n",
       " 109063,\n",
       " 109064,\n",
       " 109065,\n",
       " 109066,\n",
       " 109067,\n",
       " 109068]"
      ]
     },
     "execution_count": 17,
     "metadata": {},
     "output_type": "execute_result"
    }
   ],
   "source": [
    "#song_dict['nesmdb24_seprsco/train/380_WaronWheels_10_11ResultsTheme.seprsco.pkl']\n",
    "#song_dict['nesmdb24_seprsco/train/221_MarioBros__01_02GameStartA.seprsco.pkl']\n",
    "#song_dict['nesmdb24_seprsco/train/303_SpaceHarrier_11_12Hayaoh.seprsco.pkl']\n",
    "#song_dict['nesmdb24_seprsco/train/346_TheJungleBook_04_05Level4Level7Level10.seprsco.pkl']\n",
    "#song_dict['nesmdb24_seprsco/train/199_Labyrinth_MaounoMeikyu_08_09Oubliette.seprsco.pkl']\n",
    "#song_dict['nesmdb24_seprsco/train/082_Dr_Mario_08_09Ending.seprsco.pkl']\n",
    "song_dict['nesmdb24_seprsco/train/105_FamicomJump_HeroRetsuden_06_07AdventureJumpWorld.seprsco.pkl']\n",
    "song_dict['nesmdb24_seprsco/train/117_FinalFantasy_11_12MenuScreen.seprsco.pkl']\n",
    "#song_dict['nesmdb24_seprsco/train/053_ChoujinSentaiJetman_01_02AreaSelect.seprsco.pkl']\n",
    "#song_dict['nesmdb24_seprsco/train/329_SwordMaster_06_07Stage3.seprsco.pkl']\n",
    "#song_dict['nesmdb24_seprsco/train/025_BatmanReturns_03_04Opening1.seprsco.pkl']\n",
    "song_dict['nesmdb24_seprsco/train/032_BioSenshiDan_IncreasertonoTatakai_04_05Stage3.seprsco.pkl']"
   ]
  },
  {
   "cell_type": "code",
   "execution_count": 9,
   "metadata": {},
   "outputs": [
    {
     "data": {
      "text/plain": [
       "[2279195,\n",
       " 2279196,\n",
       " 2279197,\n",
       " 2279198,\n",
       " 2279199,\n",
       " 2279200,\n",
       " 2279201,\n",
       " 2279202,\n",
       " 2279203,\n",
       " 2279204,\n",
       " 2279205,\n",
       " 2279206,\n",
       " 2279207,\n",
       " 2279208,\n",
       " 2279209,\n",
       " 2279210,\n",
       " 2279211,\n",
       " 2279212,\n",
       " 2279213,\n",
       " 2279214,\n",
       " 2279215,\n",
       " 2279216,\n",
       " 2279217,\n",
       " 2279218,\n",
       " 2279219,\n",
       " 2279220,\n",
       " 2279221,\n",
       " 2279222,\n",
       " 2279223,\n",
       " 2279224,\n",
       " 2279225,\n",
       " 2279226,\n",
       " 2279227,\n",
       " 2279228,\n",
       " 2279229,\n",
       " 2279230,\n",
       " 2279231,\n",
       " 2279232,\n",
       " 2279233,\n",
       " 2279234,\n",
       " 2279235,\n",
       " 2279236,\n",
       " 2279237,\n",
       " 2279238,\n",
       " 2279239,\n",
       " 2279240,\n",
       " 2279241,\n",
       " 2279242,\n",
       " 2279243,\n",
       " 2279244,\n",
       " 2279245,\n",
       " 2279246,\n",
       " 2279247,\n",
       " 2279248,\n",
       " 2279249,\n",
       " 2279250,\n",
       " 2279251,\n",
       " 2279252,\n",
       " 2279253,\n",
       " 2279254,\n",
       " 2279255,\n",
       " 2279256,\n",
       " 2279257,\n",
       " 2279258,\n",
       " 2279259,\n",
       " 2279260,\n",
       " 2279261,\n",
       " 2279262,\n",
       " 2279263,\n",
       " 2279264,\n",
       " 2279265,\n",
       " 2279266,\n",
       " 2279267,\n",
       " 2279268,\n",
       " 2279269,\n",
       " 2279270,\n",
       " 2279271,\n",
       " 2279272,\n",
       " 2279273,\n",
       " 2279274,\n",
       " 2279275,\n",
       " 2279276,\n",
       " 2279277,\n",
       " 2279278,\n",
       " 2279279,\n",
       " 2279280]"
      ]
     },
     "execution_count": 9,
     "metadata": {},
     "output_type": "execute_result"
    }
   ],
   "source": [
    "song_dict['nesmdb24_seprsco/train/325_SuperMarioWorld_02_03Overworld.seprsco.pkl']"
   ]
  },
  {
   "cell_type": "code",
   "execution_count": null,
   "metadata": {},
   "outputs": [],
   "source": [
    "song_dic"
   ]
  },
  {
   "cell_type": "code",
   "execution_count": null,
   "metadata": {},
   "outputs": [],
   "source": []
  }
 ],
 "metadata": {
  "kernelspec": {
   "display_name": "Python 3",
   "language": "python",
   "name": "python3"
  },
  "language_info": {
   "codemirror_mode": {
    "name": "ipython",
    "version": 3
   },
   "file_extension": ".py",
   "mimetype": "text/x-python",
   "name": "python",
   "nbconvert_exporter": "python",
   "pygments_lexer": "ipython3",
   "version": "3.6.7"
  }
 },
 "nbformat": 4,
 "nbformat_minor": 2
}
