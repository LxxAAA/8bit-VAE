{
 "cells": [
  {
   "cell_type": "markdown",
   "metadata": {},
   "source": [
    "# NES-MDB"
   ]
  },
  {
   "cell_type": "markdown",
   "metadata": {},
   "source": [
    "The purpose of this notebook is to showcase a few things about the NES MDB and our work on it."
   ]
  },
  {
   "cell_type": "code",
   "execution_count": 3,
   "metadata": {},
   "outputs": [],
   "source": [
    "from collections import Counter\n",
    "import numpy as np\n",
    "import matplotlib.pyplot as plt\n",
    "import seaborn as sns\n",
    "import glob\n",
    "import pickle\n",
    "from preprocessing import *"
   ]
  },
  {
   "cell_type": "markdown",
   "metadata": {},
   "source": [
    "The purpose of this notebook is to showcase a few things about the NES MDB and our work on it."
   ]
  },
  {
   "cell_type": "markdown",
   "metadata": {},
   "source": [
    "# 1. Music Statistics."
   ]
  },
  {
   "cell_type": "markdown",
   "metadata": {},
   "source": [
    "We begin by first loading the data. We apply a preprocessing step where we move all the notes so that there is no spacing between 0 and the rest of the integers. We remark that for P1 and P2, the note 32 is never played, so we ignore it and shift it down."
   ]
  },
  {
   "cell_type": "code",
   "execution_count": 4,
   "metadata": {},
   "outputs": [
    {
     "ename": "KeyboardInterrupt",
     "evalue": "",
     "output_type": "error",
     "traceback": [
      "\u001b[0;31m---------------------------------------------------------------------------\u001b[0m",
      "\u001b[0;31mKeyboardInterrupt\u001b[0m                         Traceback (most recent call last)",
      "\u001b[0;32m<ipython-input-4-f3d5dcea572e>\u001b[0m in \u001b[0;36m<module>\u001b[0;34m\u001b[0m\n\u001b[1;32m     46\u001b[0m \u001b[0;34m\u001b[0m\u001b[0m\n\u001b[1;32m     47\u001b[0m \u001b[0mprocessed_songs\u001b[0m   \u001b[0;34m=\u001b[0m \u001b[0msong_loader\u001b[0m\u001b[0;34m(\u001b[0m\u001b[0mfolder\u001b[0m \u001b[0;34m=\u001b[0m \u001b[0;34m'nesmdb24_seprsco/train'\u001b[0m\u001b[0;34m)\u001b[0m\u001b[0;34m\u001b[0m\u001b[0;34m\u001b[0m\u001b[0m\n\u001b[0;32m---> 48\u001b[0;31m \u001b[0mvoice_counts\u001b[0m \u001b[0;34m=\u001b[0m \u001b[0mnote_counter\u001b[0m\u001b[0;34m(\u001b[0m\u001b[0mprocessed_songs\u001b[0m\u001b[0;34m)\u001b[0m\u001b[0;34m\u001b[0m\u001b[0;34m\u001b[0m\u001b[0m\n\u001b[0m",
      "\u001b[0;32m<ipython-input-4-f3d5dcea572e>\u001b[0m in \u001b[0;36mnote_counter\u001b[0;34m(songs)\u001b[0m\n\u001b[1;32m     41\u001b[0m         \u001b[0;32mfor\u001b[0m \u001b[0mvoice\u001b[0m \u001b[0;32min\u001b[0m \u001b[0mrange\u001b[0m\u001b[0;34m(\u001b[0m\u001b[0;36m4\u001b[0m\u001b[0;34m)\u001b[0m\u001b[0;34m:\u001b[0m\u001b[0;34m\u001b[0m\u001b[0;34m\u001b[0m\u001b[0m\n\u001b[1;32m     42\u001b[0m             \u001b[0;32mfor\u001b[0m \u001b[0mnote\u001b[0m \u001b[0;32min\u001b[0m \u001b[0msong\u001b[0m\u001b[0;34m[\u001b[0m\u001b[0;34m:\u001b[0m\u001b[0;34m,\u001b[0m\u001b[0mvoice\u001b[0m\u001b[0;34m]\u001b[0m\u001b[0;34m:\u001b[0m\u001b[0;34m\u001b[0m\u001b[0;34m\u001b[0m\u001b[0m\n\u001b[0;32m---> 43\u001b[0;31m                 \u001b[0mvoice_counts\u001b[0m\u001b[0;34m[\u001b[0m\u001b[0mvoice\u001b[0m\u001b[0;34m]\u001b[0m\u001b[0;34m[\u001b[0m\u001b[0mnote\u001b[0m\u001b[0;34m]\u001b[0m \u001b[0;34m+=\u001b[0m \u001b[0;36m1\u001b[0m\u001b[0;34m\u001b[0m\u001b[0;34m\u001b[0m\u001b[0m\n\u001b[0m\u001b[1;32m     44\u001b[0m \u001b[0;34m\u001b[0m\u001b[0m\n\u001b[1;32m     45\u001b[0m     \u001b[0;32mreturn\u001b[0m \u001b[0mvoice_counts\u001b[0m\u001b[0;34m\u001b[0m\u001b[0;34m\u001b[0m\u001b[0m\n",
      "\u001b[0;31mKeyboardInterrupt\u001b[0m: "
     ]
    }
   ],
   "source": [
    "def song_loader(folder):\n",
    "    processed_songs = []\n",
    "\n",
    "    #instrument info.\n",
    "    #(key,val) = (instrument, (note_size,velocity_size, timbre_size))\n",
    "    voices = {\"P1\": (77,16,4),\n",
    "                   \"P2\": (77,16,4),\n",
    "                   \"TR\": (89,0,0),\n",
    "                   \"NO\": (17,16,2)}\n",
    "\n",
    "    #First, we define the functions which will normalize our notes\n",
    "    #to begin at 0.\n",
    "\n",
    "    P1_normalizer = np.vectorize(lambda x : x - 32 if x > 0 else 0)\n",
    "    P2_normalizer = np.vectorize(lambda x : x - 32 if x > 0 else 0)\n",
    "    TR_normalizer = np.vectorize(lambda x : x - 20 if x > 0 else 0)\n",
    "\n",
    "\n",
    "\n",
    "    for song in glob.glob(folder + '/*'):\n",
    "        with open(song, 'rb') as song_info:\n",
    "            rate, nsamps, exprsco = pickle.load(song_info)\n",
    "\n",
    "            #Normalize the notes for the voices.\n",
    "            exprsco[:,0] = P1_normalizer(exprsco[:,0])\n",
    "            exprsco[:,1] = P2_normalizer(exprsco[:,1])\n",
    "            exprsco[:,2] = TR_normalizer(exprsco[:,2])\n",
    "\n",
    "            processed_songs.append(exprsco)\n",
    "    \n",
    "    return processed_songs\n",
    "\n",
    "def note_counter(songs):\n",
    "    P1 = Counter()\n",
    "    P2 = Counter()\n",
    "    TR = Counter()\n",
    "    NO = Counter()\n",
    "    voice_counts = [P1,P2,TR,NO]\n",
    "\n",
    "    for song in processed_songs:\n",
    "        for voice in range(4):\n",
    "            for note in song[:,voice]:\n",
    "                voice_counts[voice][note] += 1\n",
    "    \n",
    "    return voice_counts\n",
    "\n",
    "processed_songs   = song_loader(folder = 'nesmdb24_seprsco/train')\n",
    "voice_counts = note_counter(processed_songs)"
   ]
  },
  {
   "cell_type": "markdown",
   "metadata": {},
   "source": [
    "We begin by first preparing a function to count the number of times each notes appears for each instrument. As it turns out, the most popular note is \"0\" i.e. that the instrument is not playing. We will plot the counts for the all the notes per instrument in a moment, but we first want to emphasize just how often each voice is turned off. Most notably, notice that for the noise voice, 0 appears more than 50% of the time. It might even be worth considering removing it entirely for the dimension reduction. "
   ]
  },
  {
   "cell_type": "code",
   "execution_count": null,
   "metadata": {},
   "outputs": [],
   "source": [
    "voices = [\"P1\",\"P2\",\"TR\",\"NO\"]\n",
    "tot_count = sum(voice_counts[0].values())\n",
    "\n",
    "for voice,note_count in zip(voices,voice_counts):\n",
    "    percentage = 100*note_count[0]/tot_count\n",
    "    print(voice + \" is turned off for {:.2f}% of the time.\".format(percentage))"
   ]
  },
  {
   "cell_type": "code",
   "execution_count": null,
   "metadata": {},
   "outputs": [],
   "source": [
    "def note_plotter(ax,voice_counts):\n",
    "    notes,counts = [],[]\n",
    "    for note, count in voice_counts.items():\n",
    "        notes.append(note)\n",
    "        counts.append(count)\n",
    "    max_note = max(notes)+1\n",
    "    #plt.figure(figsize=(20,10))\n",
    "    #plt.xticks(np.arange(0, max_note, 1))\n",
    "    ax.hist(notes, weights= counts, bins=range(max_note))\n",
    "    ax.set_xlim(0,max_note-1)\n",
    "\n",
    "fig, (ax1, ax2) = plt.subplots(1,2, figsize = (10,7))\n",
    "fig.suptitle(\"Histograms for Pulses\",fontsize = 40)\n",
    "\n",
    "#First, we do voice P1.\n",
    "note_plotter(ax1,voice_counts[0])\n",
    "ax1.set_xlabel(\"Notes for P1\", fontsize=20)\n",
    "ax1.set_ylabel(\"Counts\", fontsize=20)\n",
    "ax1.set_ylim(0,600000)\n",
    "\n",
    "#Now voice P2\n",
    "note_plotter(ax2,voice_counts[1])\n",
    "ax2.set_xlabel(\"Notes for P2\", fontsize=20)\n",
    "ax2.set_ylim(0,600000)\n",
    "fig.tight_layout()\n",
    "fig.subplots_adjust(top=0.88)"
   ]
  },
  {
   "cell_type": "code",
   "execution_count": null,
   "metadata": {},
   "outputs": [],
   "source": [
    "fig, ax = plt.subplots(figsize=(11,7))\n",
    "note_plotter(ax, voice_counts[2])\n",
    "ax.set_xlabel(\"Notes for TR\", fontsize=20)\n",
    "ax.set_ylabel(\"Counts\", fontsize=20)\n",
    "_ = ax.set_title(\"Histogram for TR voice\", fontsize=20)"
   ]
  },
  {
   "cell_type": "code",
   "execution_count": null,
   "metadata": {},
   "outputs": [],
   "source": [
    "fig, ax = plt.subplots(figsize=(11,7))\n",
    "note_plotter(ax, voice_counts[3])\n",
    "ax.set_xlabel(\"Notes for NO\", fontsize=20)\n",
    "ax.set_ylabel(\"Counts\", fontsize=20)\n",
    "_ = ax.set_title(\"Histogram for NO voice\", fontsize=20)"
   ]
  },
  {
   "cell_type": "markdown",
   "metadata": {},
   "source": [
    "## Frozen time"
   ]
  },
  {
   "cell_type": "code",
   "execution_count": null,
   "metadata": {},
   "outputs": [],
   "source": [
    "import seaborn as sns\n",
    "import matplotlib.pyplot as plt\n",
    "j = 2\n",
    "voice_names = [\"P1\",\"P2\", \"TR\",\"NO\"]\n",
    "fig, ax = plt.subplots(figsize = (17,7))\n",
    "sns.barplot(x= [i for i in range(len(cnts[j]))], y = [len(Z) for Z in cnts[j]], ax = ax)\n",
    "ax.set_xlabel(\"Note range\", fontsize = 20)\n",
    "ax.set_ylabel(\"Count\", fontsize = 20)\n",
    "_ = ax.set_title(\"How many times did each \" + voice_names[j] +\" note get held?\", fontsize=20)"
   ]
  },
  {
   "cell_type": "code",
   "execution_count": null,
   "metadata": {},
   "outputs": [],
   "source": [
    "fig2, ax2 = plt.subplots(figsize = (15,7))\n",
    "sns.countplot(x=cnts[3][0], ax = ax2)\n",
    "ax2.set_title(\"Number of times the NO voice was turned off per duration.\", fontsize=20)\n",
    "ax2.set_xlabel(\"Number of timesteps held.\", fontsize= 20)\n",
    "ax2.set_ylabel(\"Count\", fontsize=20)"
   ]
  },
  {
   "cell_type": "code",
   "execution_count": null,
   "metadata": {},
   "outputs": [],
   "source": [
    "fig2, ax2 = plt.subplots(figsize = (15,7))\n",
    "sns.countplot(x=cnts[2][0], ax = ax2)\n",
    "ax2.set_title(\"Number of times the TR voice was turned off per duration.\", fontsize=20)\n",
    "ax2.set_xlabel(\"Number of timesteps held.\", fontsize= 20)\n",
    "ax2.set_ylabel(\"Count\", fontsize=20)"
   ]
  },
  {
   "cell_type": "code",
   "execution_count": null,
   "metadata": {},
   "outputs": [],
   "source": [
    "fig2, ax2 = plt.subplots(figsize = (15,7))\n",
    "sns.countplot(x=cnts[1][0], ax = ax2)\n",
    "ax2.set_title(\"Number of times the P2 voice was turned off per duration.\", fontsize=20)\n",
    "ax2.set_xlabel(\"Number of timesteps held.\", fontsize= 20)\n",
    "ax2.set_ylabel(\"Count\", fontsize=20)"
   ]
  },
  {
   "cell_type": "code",
   "execution_count": null,
   "metadata": {},
   "outputs": [],
   "source": [
    "fig2, ax2 = plt.subplots(figsize = (15,7))\n",
    "sns.countplot(x=cnts[0][0], ax = ax2)\n",
    "ax2.set_title(\"Number of times the P1 voice was turned off per duration.\", fontsize=20)\n",
    "ax2.set_xlabel(\"Number of timesteps held.\", fontsize= 20)\n",
    "ax2.set_ylabel(\"Count\", fontsize=20)"
   ]
  },
  {
   "cell_type": "markdown",
   "metadata": {},
   "source": [
    "## 2. Song Dictionary."
   ]
  },
  {
   "cell_type": "markdown",
   "metadata": {},
   "source": [
    "During our preprocessing, we chopped the music into several pieces. In order to assign meaning to each piece, we created a dictionary which takes a song name and gives you all the pieces associated with that name. We leave it for reference."
   ]
  },
  {
   "cell_type": "code",
   "execution_count": 4,
   "metadata": {},
   "outputs": [],
   "source": [
    "with open('52_12_TR_song_dict','rb') as file:\n",
    "    song_dict = pickle.load(file)"
   ]
  },
  {
   "cell_type": "code",
   "execution_count": 17,
   "metadata": {},
   "outputs": [
    {
     "data": {
      "text/plain": [
       "[133920,\n",
       " 133921,\n",
       " 133922,\n",
       " 133923,\n",
       " 133924,\n",
       " 133925,\n",
       " 133926,\n",
       " 133927,\n",
       " 133928,\n",
       " 133929,\n",
       " 133930,\n",
       " 133931,\n",
       " 133932,\n",
       " 133933,\n",
       " 133934,\n",
       " 133935,\n",
       " 133936,\n",
       " 133937,\n",
       " 133938,\n",
       " 133939,\n",
       " 133940,\n",
       " 133941,\n",
       " 133942,\n",
       " 133943,\n",
       " 133944,\n",
       " 133945,\n",
       " 133946,\n",
       " 133947,\n",
       " 133948,\n",
       " 133949,\n",
       " 133950,\n",
       " 133951,\n",
       " 133952,\n",
       " 133953,\n",
       " 133954,\n",
       " 133955,\n",
       " 133956,\n",
       " 133957,\n",
       " 133958,\n",
       " 133959,\n",
       " 133960,\n",
       " 133961,\n",
       " 133962,\n",
       " 133963,\n",
       " 133964,\n",
       " 133965,\n",
       " 133966,\n",
       " 133967,\n",
       " 133968,\n",
       " 133969,\n",
       " 133970,\n",
       " 133971,\n",
       " 133972,\n",
       " 133973,\n",
       " 133974,\n",
       " 133975,\n",
       " 133976,\n",
       " 133977,\n",
       " 133978,\n",
       " 133979,\n",
       " 133980]"
      ]
     },
     "execution_count": 17,
     "metadata": {},
     "output_type": "execute_result"
    }
   ],
   "source": [
    "#song_dict['nesmdb24_seprsco/train/380_WaronWheels_10_11ResultsTheme.seprsco.pkl']\n",
    "#song_dict['nesmdb24_seprsco/train/221_MarioBros__01_02GameStartA.seprsco.pkl']\n",
    "#song_dict['nesmdb24_seprsco/train/303_SpaceHarrier_11_12Hayaoh.seprsco.pkl']\n",
    "#song_dict['nesmdb24_seprsco/train/346_TheJungleBook_04_05Level4Level7Level10.seprsco.pkl']\n",
    "#song_dict['nesmdb24_seprsco/train/199_Labyrinth_MaounoMeikyu_08_09Oubliette.seprsco.pkl']\n",
    "#song_dict['nesmdb24_seprsco/train/082_Dr_Mario_08_09Ending.seprsco.pkl']\n",
    "#song_dict['nesmdb24_seprsco/train/105_FamicomJump_HeroRetsuden_06_07AdventureJumpWorld.seprsco.pkl']\n",
    "#song_dict['nesmdb24_seprsco/train/117_FinalFantasy_11_12MenuScreen.seprsco.pkl']\n",
    "#song_dict['nesmdb24_seprsco/train/053_ChoujinSentaiJetman_01_02AreaSelect.seprsco.pkl']\n",
    "#song_dict['nesmdb24_seprsco/train/329_SwordMaster_06_07Stage3.seprsco.pkl']\n",
    "#song_dict['nesmdb24_seprsco/train/025_BatmanReturns_03_04Opening1.seprsco.pkl']\n",
    "#song_dict['nesmdb24_seprsco/train/032_BioSenshiDan_IncreasertonoTatakai_04_05Stage3.seprsco.pkl']\n",
    "#song_dict['nesmdb24_seprsco/train/322_SuperMarioBros__02_03SwimmingAround.seprsco.pkl']\n",
    "#song_dict['nesmdb24_seprsco/train/106_FamicomMukashiBanashi_ShinOnigashima_05_06SecondChapterInsidetheHouseNight.seprsco.pkl']\n",
    "song_dict['nesmdb24_seprsco/train/042_CaptainTsubasaVol_II_SuperStriker_19_20FlamengoBeforeTheGame.seprsco.pkl']"
   ]
  },
  {
   "cell_type": "code",
   "execution_count": 23,
   "metadata": {},
   "outputs": [
    {
     "data": {
      "text/plain": [
       "[591037,\n",
       " 591038,\n",
       " 591039,\n",
       " 591040,\n",
       " 591041,\n",
       " 591042,\n",
       " 591043,\n",
       " 591044,\n",
       " 591045,\n",
       " 591046,\n",
       " 591047,\n",
       " 591048,\n",
       " 591049,\n",
       " 591050,\n",
       " 591051,\n",
       " 591052,\n",
       " 591053]"
      ]
     },
     "execution_count": 23,
     "metadata": {},
     "output_type": "execute_result"
    }
   ],
   "source": [
    "song_dict['nesmdb24_seprsco/train/325_SuperMarioWorld_01_02YoshisIsland.seprsco.pkl']"
   ]
  },
  {
   "cell_type": "code",
   "execution_count": null,
   "metadata": {},
   "outputs": [],
   "source": [
    "song_dic"
   ]
  },
  {
   "cell_type": "markdown",
   "metadata": {},
   "source": [
    "# Data Structure Analysis"
   ]
  },
  {
   "cell_type": "code",
   "execution_count": 160,
   "metadata": {},
   "outputs": [],
   "source": [
    "def process(song, og_count, new_count, cpt_count):    \n",
    "    with open(song, 'rb') as song_info:\n",
    "        rate, nsamps, seprsco = pickle.load(song_info)\n",
    "    seprsco[:,3] = 0\n",
    "    normalized_score = song_normalizer(seprsco.copy(),'seprsco',False,None)\n",
    "    score, valid = new_scorer(normalized_score,77,32,True,True)\n",
    "    compact_score, valid = compactify_score(seprsco,77,32,True,True)\n",
    "    #og_count.append(score)\n",
    "    if not valid:\n",
    "        return\n",
    "    #new_score = postprocessing_sparse([score], None, True)[0]\n",
    "    #assert np.array_equal(new_score,seprsco)\n",
    "    og_count.append(seprsco.shape[0])\n",
    "    new_count.append(score.shape[0])\n",
    "    cpt_count.append(compact_score.shape[0])\n"
   ]
  },
  {
   "cell_type": "code",
   "execution_count": 161,
   "metadata": {},
   "outputs": [
    {
     "name": "stdout",
     "output_type": "stream",
     "text": [
      "51.431684255599976\n"
     ]
    }
   ],
   "source": [
    "import time\n",
    "from multiprocessing import Pool\n",
    "\n",
    "folder = 'nesmdb24_seprsco/train'\n",
    "A,B,C = [],[],[]\n",
    "start = time.time()\n",
    "for i,song in enumerate(glob.glob(folder + '/*')):\n",
    "    process(song,A,B,C)\n",
    "print(time.time()-start)\n",
    "A,B,C = np.asarray(A), np.asarray(B), np.asarray(C)"
   ]
  },
  {
   "cell_type": "code",
   "execution_count": 162,
   "metadata": {},
   "outputs": [
    {
     "data": {
      "text/plain": [
       "(690.6361471288701, 673.6229161153744, 1076.5800476316485)"
      ]
     },
     "execution_count": 162,
     "metadata": {},
     "output_type": "execute_result"
    }
   ],
   "source": [
    "A.mean(), B.mean(), C.mean()"
   ]
  },
  {
   "cell_type": "code",
   "execution_count": 164,
   "metadata": {},
   "outputs": [
    {
     "data": {
      "text/plain": [
       "0.41148451971421013"
      ]
     },
     "execution_count": 164,
     "metadata": {},
     "output_type": "execute_result"
    }
   ],
   "source": [
    "(B>A).mean()"
   ]
  },
  {
   "cell_type": "code",
   "execution_count": 163,
   "metadata": {},
   "outputs": [
    {
     "data": {
      "text/plain": [
       "<matplotlib.axes._subplots.AxesSubplot at 0x7f5659bcd208>"
      ]
     },
     "execution_count": 163,
     "metadata": {},
     "output_type": "execute_result"
    },
    {
     "data": {
      "image/png": "[encoded data removed]",
      "text/plain": [
       "<Figure size 432x288 with 1 Axes>"
      ]
     },
     "metadata": {
      "needs_background": "light"
     },
     "output_type": "display_data"
    }
   ],
   "source": [
    "sns.distplot(B-A, kde=False)"
   ]
  },
  {
   "cell_type": "code",
   "execution_count": 138,
   "metadata": {},
   "outputs": [],
   "source": [
    "def sparse_score(score, note_size, max_len, separate=True, TR=False):\n",
    "    \"\"\"\n",
    "    ----------------------------------------------------------------------------\n",
    "    This turns a piano_roll for a single voice into a sequence of events,\n",
    "    similar to Magenta's event decomposition. We count how many steps a note is\n",
    "    held, then turn into two events. The first event consists of a onehot version\n",
    "    of the note, and the other consists of onehot version of the number of steps\n",
    "    into the future.\n",
    "\n",
    "    Args:\n",
    "        score (np.array): Normalized score.\n",
    "        note_size (int): Number of notes per instrument, including off.\n",
    "        max_len (int): Maximum length allowed.\n",
    "        separate (bool): If True, separate P1 notes, P2 notes and time shift by\n",
    "        adding note_size.\n",
    "\n",
    "    Returns:\n",
    "        events (np.array): An array containing appropiate note values and counts,\n",
    "         with an offset by timesteps. Shape =(3, 2*timesteps+1)\n",
    "        lengths (np.array): An array containing lengths. Shape = (3,)\n",
    "    ----------------------------------------------------------------------------\n",
    "    \"\"\"\n",
    "    events = []\n",
    "    voices = [\"P1\",\"P2\",\"TR\",\"NO\"]\n",
    "    timesteps = score.shape[0]\n",
    "    voices = 3 if TR else 2\n",
    "    lengths = []\n",
    "    score_length = score.shape[0]\n",
    "    last_notes = score[0]\n",
    "    max_count = 0\n",
    "    count = 0\n",
    "\n",
    "    #Compute offsets.\n",
    "    offset = 0\n",
    "    P2_offset = note_size\n",
    "    TR_offset = 2*note_size\n",
    "    cnt_offset = 2*note_size - 1 + (note_size + 12)\n",
    "    cnt_offset = cnt_offset if TR else 2*note_size -1\n",
    "    voice_offsets = [0,P2_offset, TR_offset]\n",
    "\n",
    "\n",
    "    events = [last_notes[i] + offset for i, offset in enumerate(voice_offsets[:voices])]\n",
    "    for notes in score:\n",
    "        #If same note, increase count.\n",
    "        if np.array_equal(notes,last_notes):\n",
    "            count += 1\n",
    "            #cur_count += 1\n",
    "            continue\n",
    "\n",
    "        events.append(cnt_offset + count + offset)\n",
    "        max_count = max(max_count,count)\n",
    "        count = 1\n",
    "\n",
    "        #events += [offset + notes[i] for i,offset in enumerate(voice_offsets[:voices])]\n",
    "        for i in range(3):\n",
    "            if last_notes[i] != notes[i]:\n",
    "                events.append(voice_offsets[i] + notes[i])\n",
    "        last_notes = notes\n",
    "\n",
    "        if max_count > max_len:\n",
    "            return (0,False)\n",
    "    max_count = max(count, max_count)\n",
    "    if max_count > max_len:\n",
    "        return (0,False)\n",
    "\n",
    "    events.append(cnt_offset + count + offset)\n",
    "    events = np.asarray(events).astype(np.int16)\n",
    "\n",
    "    return (events, True)"
   ]
  },
  {
   "cell_type": "code",
   "execution_count": 155,
   "metadata": {},
   "outputs": [],
   "source": [
    "def postprocessing_sparse(data, threshold, separate=True):\n",
    "    \n",
    "    P1_normalizer = lambda x : x + 32 if x > 0 else 0\n",
    "    P2_normalizer = lambda x : x + 32 if x > 0 else 0\n",
    "    TR_normalizer = lambda x : x + 20 if x > 0 else 0\n",
    "    #NO_normalizer = np.vectorize(lambda x : x)\n",
    "\n",
    "    normalizers = [P1_normalizer,P2_normalizer, TR_normalizer]\n",
    "\n",
    "    res = []\n",
    "    note_size = 108-32+1\n",
    "    offset = 0\n",
    "    P2_offset = note_size if separate else 0\n",
    "    TR_offset = 2*note_size if separate else 0\n",
    "    cnt_offset = 2*note_size - 1 + (note_size + 12) if separate else 0\n",
    "\n",
    "    for song in data:\n",
    "        notes = [[P1_normalizer(song[0]), P2_normalizer(song[1]-P2_offset), TR_normalizer(song[2]-TR_offset),0] for _ in range(song[3]-cnt_offset)]\n",
    "        last_notes = notes[-1][:]\n",
    "        new_notes = []\n",
    "        for event in song[4:]:\n",
    "            if event < P2_offset: #P1 pitch change.\n",
    "                last_notes[0] = P1_normalizer(event)\n",
    "            elif P2_offset <= event < TR_offset: #P2 pitch change\n",
    "                last_notes[1] = P2_normalizer(event - P2_offset)\n",
    "            elif TR_offset <= event <= cnt_offset: #TR pitch change\n",
    "                last_notes[2] = TR_normalizer(event - TR_offset)\n",
    "            else:\n",
    "                cnt = event - cnt_offset\n",
    "                assert cnt > 0, cnt\n",
    "                notes.extend([last_notes[:]]*cnt)\n",
    "\n",
    "        res.append(np.asarray([notes]))\n",
    "    \n",
    "    return np.vstack(res)\n",
    "        "
   ]
  },
  {
   "cell_type": "code",
   "execution_count": null,
   "metadata": {},
   "outputs": [],
   "source": []
  }
 ],
 "metadata": {
  "kernelspec": {
   "display_name": "Python 3",
   "language": "python",
   "name": "python3"
  },
  "language_info": {
   "codemirror_mode": {
    "name": "ipython",
    "version": 3
   },
   "file_extension": ".py",
   "mimetype": "text/x-python",
   "name": "python",
   "nbconvert_exporter": "python",
   "pygments_lexer": "ipython3",
   "version": "3.6.7"
  }
 },
 "nbformat": 4,
 "nbformat_minor": 2
}
